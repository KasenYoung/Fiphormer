{
 "cells": [
  {
   "cell_type": "code",
   "execution_count": 2,
   "metadata": {},
   "outputs": [],
   "source": [
    "from torch_geometric.data import Data\n",
    "import torch"
   ]
  },
  {
   "cell_type": "code",
   "execution_count": 3,
   "metadata": {},
   "outputs": [
    {
     "data": {
      "text/plain": [
       "(tensor([[0.],\n",
       "         [1.],\n",
       "         [2.]]),\n",
       " tensor([[0., 1.],\n",
       "         [1., 0.],\n",
       "         [1., 2.],\n",
       "         [2., 1.]]))"
      ]
     },
     "execution_count": 3,
     "metadata": {},
     "output_type": "execute_result"
    }
   ],
   "source": [
    "#test\n",
    "\n",
    "x=torch.tensor([[0],[1],[2]],dtype=torch.float)\n",
    "edge_index=edge_index = torch.tensor([[0, 1],\n",
    "                           [1, 0],\n",
    "                           [1, 2],\n",
    "                           [2, 1]], dtype=torch.float)\n",
    "x,edge_index"
   ]
  },
  {
   "cell_type": "code",
   "execution_count": 4,
   "metadata": {},
   "outputs": [
    {
     "data": {
      "text/plain": [
       "tensor([[0.2895, 0.0277, 0.0801],\n",
       "        [0.1715, 0.3377, 0.1336],\n",
       "        [0.2071, 0.5747, 0.0366]])"
      ]
     },
     "execution_count": 4,
     "metadata": {},
     "output_type": "execute_result"
    }
   ],
   "source": [
    "edge_attr=torch.rand((3,3))\n",
    "edge_attr"
   ]
  },
  {
   "cell_type": "code",
   "execution_count": 5,
   "metadata": {},
   "outputs": [
    {
     "name": "stdout",
     "output_type": "stream",
     "text": [
      "tensor([[0.2895, 0.0277, 0.0801],\n",
      "        [0.1715, 0.3377, 0.1336],\n",
      "        [0.2071, 0.5747, 0.0366]])\n"
     ]
    }
   ],
   "source": [
    "data = Data(x=x, edge_index=edge_index.t().contiguous(),edge_attr=edge_attr)\n",
    "print(data.edge_attr)\n"
   ]
  },
  {
   "cell_type": "code",
   "execution_count": 9,
   "metadata": {},
   "outputs": [],
   "source": [
    "with open('./test_data.pt','wb') as f:\n",
    "    torch.save(data,f)\n",
    "    \n"
   ]
  },
  {
   "cell_type": "code",
   "execution_count": 10,
   "metadata": {},
   "outputs": [
    {
     "name": "stdout",
     "output_type": "stream",
     "text": [
      "Data(x=[3, 1], edge_index=[2, 4], edge_attr=[3, 3]) tensor([[0.],\n",
      "        [1.],\n",
      "        [2.]]) tensor([[0., 1., 1., 2.],\n",
      "        [1., 0., 2., 1.]]) tensor([[0.2895, 0.0277, 0.0801],\n",
      "        [0.1715, 0.3377, 0.1336],\n",
      "        [0.2071, 0.5747, 0.0366]])\n"
     ]
    }
   ],
   "source": [
    "data_test=torch.load(\"./test_data.pt\")\n",
    "print(data,data.x,data.edge_index,data.edge_attr)"
   ]
  }
 ],
 "metadata": {
  "kernelspec": {
   "display_name": "New",
   "language": "python",
   "name": "python3"
  },
  "language_info": {
   "codemirror_mode": {
    "name": "ipython",
    "version": 3
   },
   "file_extension": ".py",
   "mimetype": "text/x-python",
   "name": "python",
   "nbconvert_exporter": "python",
   "pygments_lexer": "ipython3",
   "version": "3.8.16"
  },
  "orig_nbformat": 4
 },
 "nbformat": 4,
 "nbformat_minor": 2
}
